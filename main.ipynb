{
 "cells": [
  {
   "cell_type": "markdown",
   "metadata": {
    "collapsed": true
   },
   "source": [
    "### Introduction\n",
    "Welcome to a super quick spark workshop. \n",
    "- First we will discuss how spark works internally\n",
    "- Then we will play around with different api's spark provide using data I downloaded from US department of education website.\n",
    "\n",
    "### RDD\n",
    "- \"Resilient Distributed Datasets\" is the core abstraction in spark.\n",
    "- When you read data from a source its loaded to cluster as an abstraction called RDD.\n",
    "- RDD takes care of making sure that data is resilient and can be operated on in parallel.\n",
    "- RDD defines 2 kinds of operations:\n",
    "    - Transformations\n",
    "    - Actions\n",
    "- Transformations are lazy, that is transformation operation at rdd returns another rdd without actually doing anything!\n",
    "- Actions cause change to happen and typically don't return RDD\n",
    "- Also everything is preferably done in memory\n",
    "\n",
    "### Under the hood\n",
    "- Starting from RDD as you define operations on it, you are creating a DAG to execute on cluster\n",
    "- Each transformation you define just defines a DAG, nothing more\n",
    "- Action cause spark to execute DAG\n",
    "- Everytime you do an action, complete DAG till that point is re-evaluated\n",
    "- You have to explicitly cache things in memory/disk after transformation, if you don't want some heavy computation to re-evaluate.\n",
    "- Spark distribute DAG into multiple stages. Each stage is group of task that cann happen together without shuffling data\n",
    "- Shuffle is your dire enemy\n",
    "- Each stage consists of as many tasks as no of partitions in RDD (draw some random garbage on board to impress audience at this point)\n"
   ]
  },
  {
   "cell_type": "code",
   "execution_count": 46,
   "metadata": {
    "scrolled": true
   },
   "outputs": [],
   "source": [
    "spark\n",
    "from pyspark.sql.functions import desc"
   ]
  },
  {
   "cell_type": "markdown",
   "metadata": {},
   "source": [
    "### RDD Exercise"
   ]
  },
  {
   "cell_type": "code",
   "execution_count": 35,
   "metadata": {},
   "outputs": [],
   "source": [
    "input_dataframe = spark.read.csv(\n",
    "    \"./students.csv\", header=True, mode=\"DROPMALFORMED\"\n",
    ")"
   ]
  },
  {
   "cell_type": "code",
   "execution_count": 36,
   "metadata": {},
   "outputs": [],
   "source": [
    "input_rdd = input_dataframe.rdd"
   ]
  },
  {
   "cell_type": "code",
   "execution_count": 37,
   "metadata": {},
   "outputs": [
    {
     "data": {
      "text/plain": [
       "[Row(UNITID='100654', OPEID='00100200', OPEID6='001002', INSTNM='Alabama A & M University', CITY='Normal', STABBR='AL', INSTURL='www.aamu.edu/', NPCURL='https://galileo.aamu.edu/NetPriceCalculator/npcalc.htm', HCM2='0', PREDDEG='3', HIGHDEG='4', CONTROL='1', LOCALE='12', HBCU='1', PBI='0', ANNHI='0', TRIBAL='0', AANAPII='0', HSI='0', NANTI='0', MENONLY='0', WOMENONLY='0', RELAFFIL='NULL', SATVR25='365', SATVR75='485', SATMT25='360', SATMT75='495', SATWR25='370', SATWR75='457', SATVRMID='425', SATMTMID='428', SATWRMID='414', ACTCM25='16', ACTCM75='19', ACTEN25='14', ACTEN75='20', ACTMT25='15', ACTMT75='18', ACTWR25='NULL', ACTWR75='NULL', ACTCMMID='18', ACTENMID='17', ACTMTMID='17', ACTWRMID='NULL', SAT_AVG='929', SAT_AVG_ALL='929', PCIP01='0.0375', PCIP03='0.0177', PCIP04='0.0088', PCIP05='0', PCIP09='0', PCIP10='0.0442', PCIP11='0.0353', PCIP12='0', PCIP13='0.1192', PCIP14='0.0751', PCIP15='0.0287', PCIP16='0', PCIP19='0.0199', PCIP22='0', PCIP23='0.0132', PCIP24='0.0618', PCIP25='0', PCIP26='0.0949', PCIP27='0', PCIP29='0', PCIP30='0', PCIP31='0', PCIP38='0', PCIP39='0', PCIP40='0.0353', PCIP41='0', PCIP42='0.0574', PCIP43='0.0552', PCIP44='0.0751', PCIP45='0.0243', PCIP46='0', PCIP47='0', PCIP48='0', PCIP49='0', PCIP50='0.0265', PCIP51='0', PCIP52='0.17', PCIP54='0', DISTANCEONLY='0', UGDS='4824', UGDS_WHITE='0.0253', UGDS_BLACK='0.9073', UGDS_HISP='0.0091', UGDS_ASIAN='0.0019', UGDS_AIAN='0.0021', UGDS_NHPI='0.0019', UGDS_2MOR='0.0104', UGDS_NRA='0.0089', UGDS_UNKN='0.0332', PPTUG_EF='0.0655', CURROPER='1', NPT4_PUB='15184', NPT4_PRIV='NULL', NPT41_PUB='14719', NPT42_PUB='14447', NPT43_PUB='16746', NPT44_PUB='17127', NPT45_PUB='18956', NPT41_PRIV='NULL', NPT42_PRIV='NULL', NPT43_PRIV='NULL', NPT44_PRIV='NULL', NPT45_PRIV='NULL', PCTPELL='0.71', RET_FT4_POOLED_SUPP='0.5828', RET_FTL4_POOLED_SUPP='NULL', RET_PT4_POOLED_SUPP='0.2759', RET_PTL4_POOLED_SUPP='NULL', PCTFLOAN='0.7697', UG25ABV='0.0758', MD_EARN_WNE_P10='31000', GRAD_DEBT_MDN_SUPP='32750', GRAD_DEBT_MDN10YR_SUPP='348.16551225731', RPY_3YR_RT_SUPP='0.2531554273', C150_L4_POOLED_SUPP='NULL', C150_4_POOLED_SUPP='0.2594', OMAWDP8_FTFT_POOLED_SUPP='0.3596', OMENRYP8_FTFT_POOLED_SUPP='0.0145', OMENRAP8_FTFT_POOLED_SUPP='0.3212', OMENRUP8_FTFT_POOLED_SUPP='0.3048', OMAWDP8_PTFT_POOLED_SUPP='0.1493', OMENRYP8_PTFT_POOLED_SUPP='0.0746', OMENRAP8_PTFT_POOLED_SUPP='0.5224', OMENRUP8_PTFT_POOLED_SUPP='0.2537', OMAWDP8_FTNFT_POOLED_SUPP='0.4585', OMENRYP8_FTNFT_POOLED_SUPP='0.0098', OMENRAP8_FTNFT_POOLED_SUPP='0.2829', OMENRUP8_FTNFT_POOLED_SUPP='0.2488', OMAWDP8_PTNFT_POOLED_SUPP='0.3', OMENRYP8_PTNFT_POOLED_SUPP='0.0143', OMENRAP8_PTNFT_POOLED_SUPP='0.3905', OMENRUP8_PTNFT_POOLED_SUPP='0.2952', OPEFLAG='1', PRGMOFR='NULL', CIPCODE1='NULL', CIPCODE2='NULL', CIPCODE3='NULL', CIPCODE4='NULL', CIPCODE5='NULL', CIPCODE6='NULL', CIPTITLE1='NULL', CIPTITLE2='NULL', CIPTITLE3='NULL', CIPTITLE4='NULL', CIPTITLE5='NULL', CIPTITLE6='NULL', CIPTFBS1='NULL', CIPTFBS2='NULL', CIPTFBS3='NULL', CIPTFBS4='NULL', CIPTFBS5='NULL', CIPTFBS6='NULL', CIPTFBSANNUAL1='NULL', CIPTFBSANNUAL2='NULL', CIPTFBSANNUAL3='NULL', CIPTFBSANNUAL4='NULL', CIPTFBSANNUAL5='NULL', CIPTFBSANNUAL6='NULL', MTHCMP1='NULL', MTHCMP2='NULL', MTHCMP3='NULL', MTHCMP4='NULL', MTHCMP5='NULL', MTHCMP6='NULL', OMENRYP_ALL_POOLED_SUPP='0.0152', OMENRAP_ALL_POOLED_SUPP='0.3255', OMAWDP8_ALL_POOLED_SUPP='0.3645', OMENRUP_ALL_POOLED_SUPP='0.2947', OMENRYP_FIRSTTIME_POOLED_SUPP='0.0163', OMENRAP_FIRSTTIME_POOLED_SUPP='0.3273', OMAWDP8_FIRSTTIME_POOLED_SUPP='0.3532', OMENRUP_FIRSTTIME_POOLED_SUPP='0.3032', OMENRYP_NOTFIRSTTIME_POOLED_SUPP='0.0113', OMENRAP_NOTFIRSTTIME_POOLED_SUPP='0.3194', OMAWDP8_NOTFIRSTTIME_POOLED_SUPP='0.4048', OMENRUP_NOTFIRSTTIME_POOLED_SUPP='0.2645', OMENRYP_FULLTIME_POOLED_SUPP='0.0137', OMENRAP_FULLTIME_POOLED_SUPP='0.315', OMAWDP8_FULLTIME_POOLED_SUPP='0.3755', OMENRUP_FULLTIME_POOLED_SUPP='0.2958', OMENRYP_PARTTIME_POOLED_SUPP='0.0289', OMENRAP_PARTTIME_POOLED_SUPP='0.4224', OMAWDP8_PARTTIME_POOLED_SUPP='0.2635', OMENRUP_PARTTIME_POOLED_SUPP='0.2852'),\n",
       " Row(UNITID='100663', OPEID='00105200', OPEID6='001052', INSTNM='University of Alabama at Birmingham', CITY='Birmingham', STABBR='AL', INSTURL='www.uab.edu', NPCURL='uab.studentaidcalculator.com/survey.aspx', HCM2='0', PREDDEG='3', HIGHDEG='4', CONTROL='1', LOCALE='12', HBCU='0', PBI='0', ANNHI='0', TRIBAL='0', AANAPII='0', HSI='0', NANTI='0', MENONLY='0', WOMENONLY='0', RELAFFIL='NULL', SATVR25='440', SATVR75='630', SATMT25='550', SATMT75='740', SATWR25='NULL', SATWR75='NULL', SATVRMID='535', SATMTMID='645', SATWRMID='NULL', ACTCM25='21', ACTCM75='28', ACTEN25='22', ACTEN75='31', ACTMT25='21', ACTMT75='26', ACTWR25='NULL', ACTWR75='NULL', ACTCMMID='25', ACTENMID='27', ACTMTMID='24', ACTWRMID='NULL', SAT_AVG='1195', SAT_AVG_ALL='1195', PCIP01='0', PCIP03='0', PCIP04='0', PCIP05='0.0021', PCIP09='0.0349', PCIP10='0', PCIP11='0.0141', PCIP12='0', PCIP13='0.0665', PCIP14='0.0698', PCIP15='0', PCIP16='0.0025', PCIP19='0', PCIP22='0', PCIP23='0.0174', PCIP24='0.0187', PCIP25='0', PCIP26='0.0773', PCIP27='0.0112', PCIP29='0', PCIP30='0', PCIP31='0', PCIP38='0.0058', PCIP39='0', PCIP40='0.0174', PCIP41='0', PCIP42='0.0648', PCIP43='0.0303', PCIP44='0.0266', PCIP45='0.0349', PCIP46='0', PCIP47='0', PCIP48='0', PCIP49='0', PCIP50='0.0361', PCIP51='0.2493', PCIP52='0.2057', PCIP54='0.0145', DISTANCEONLY='0', UGDS='12866', UGDS_WHITE='0.5784', UGDS_BLACK='0.2585', UGDS_HISP='0.0333', UGDS_ASIAN='0.0588', UGDS_AIAN='0.0033', UGDS_NHPI='0.0002', UGDS_2MOR='0.0408', UGDS_NRA='0.0195', UGDS_UNKN='0.0072', PPTUG_EF='0.2515', CURROPER='1', NPT4_PUB='17535', NPT4_PRIV='NULL', NPT41_PUB='15280', NPT42_PUB='16707', NPT43_PUB='18890', NPT44_PUB='19830', NPT45_PUB='19666', NPT41_PRIV='NULL', NPT42_PRIV='NULL', NPT43_PRIV='NULL', NPT44_PRIV='NULL', NPT45_PRIV='NULL', PCTPELL='0.3532', RET_FT4_POOLED_SUPP='0.8312', RET_FTL4_POOLED_SUPP='NULL', RET_PT4_POOLED_SUPP='0.4357', RET_PTL4_POOLED_SUPP='NULL', PCTFLOAN='0.5207', UG25ABV='0.2296', MD_EARN_WNE_P10='41200', GRAD_DEBT_MDN_SUPP='21833', GRAD_DEBT_MDN10YR_SUPP='232.106797835537', RPY_3YR_RT_SUPP='0.513963161', C150_L4_POOLED_SUPP='NULL', C150_4_POOLED_SUPP='0.53', OMAWDP8_FTFT_POOLED_SUPP='0.5788', OMENRYP8_FTFT_POOLED_SUPP='0.0745', OMENRAP8_FTFT_POOLED_SUPP='0.2683', OMENRUP8_FTFT_POOLED_SUPP='0.0784', OMAWDP8_PTFT_POOLED_SUPP='0.2241', OMENRYP8_PTFT_POOLED_SUPP='0.2759', OMENRAP8_PTFT_POOLED_SUPP='0.2759', OMENRUP8_PTFT_POOLED_SUPP='0.2241', OMAWDP8_FTNFT_POOLED_SUPP='0.6007', OMENRYP8_FTNFT_POOLED_SUPP='0.0702', OMENRAP8_FTNFT_POOLED_SUPP='0.2422', OMENRUP8_FTNFT_POOLED_SUPP='0.0869', OMAWDP8_PTNFT_POOLED_SUPP='0.4115', OMENRYP8_PTNFT_POOLED_SUPP='0.1289', OMENRAP8_PTNFT_POOLED_SUPP='0.2606', OMENRUP8_PTNFT_POOLED_SUPP='0.1989', OPEFLAG='1', PRGMOFR='NULL', CIPCODE1='NULL', CIPCODE2='NULL', CIPCODE3='NULL', CIPCODE4='NULL', CIPCODE5='NULL', CIPCODE6='NULL', CIPTITLE1='NULL', CIPTITLE2='NULL', CIPTITLE3='NULL', CIPTITLE4='NULL', CIPTITLE5='NULL', CIPTITLE6='NULL', CIPTFBS1='NULL', CIPTFBS2='NULL', CIPTFBS3='NULL', CIPTFBS4='NULL', CIPTFBS5='NULL', CIPTFBS6='NULL', CIPTFBSANNUAL1='NULL', CIPTFBSANNUAL2='NULL', CIPTFBSANNUAL3='NULL', CIPTFBSANNUAL4='NULL', CIPTFBSANNUAL5='NULL', CIPTFBSANNUAL6='NULL', MTHCMP1='NULL', MTHCMP2='NULL', MTHCMP3='NULL', MTHCMP4='NULL', MTHCMP5='NULL', MTHCMP6='NULL', OMENRYP_ALL_POOLED_SUPP='0.0828', OMENRAP_ALL_POOLED_SUPP='0.2588', OMAWDP8_ALL_POOLED_SUPP='0.5591', OMENRUP_ALL_POOLED_SUPP='0.0993', OMENRYP_FIRSTTIME_POOLED_SUPP='0.0786', OMENRAP_FIRSTTIME_POOLED_SUPP='0.2684', OMAWDP8_FIRSTTIME_POOLED_SUPP='0.5716', OMENRUP_FIRSTTIME_POOLED_SUPP='0.0814', OMENRYP_NOTFIRSTTIME_POOLED_SUPP='0.0876', OMENRAP_NOTFIRSTTIME_POOLED_SUPP='0.2477', OMAWDP8_NOTFIRSTTIME_POOLED_SUPP='0.5448', OMENRUP_NOTFIRSTTIME_POOLED_SUPP='0.12', OMENRYP_FULLTIME_POOLED_SUPP='0.0728', OMENRAP_FULLTIME_POOLED_SUPP='0.2583', OMAWDP8_FULLTIME_POOLED_SUPP='0.5872', OMENRUP_FULLTIME_POOLED_SUPP='0.0817', OMENRYP_PARTTIME_POOLED_SUPP='0.1398', OMENRAP_PARTTIME_POOLED_SUPP='0.2618', OMAWDP8_PARTTIME_POOLED_SUPP='0.3977', OMENRUP_PARTTIME_POOLED_SUPP='0.2008'),\n",
       " Row(UNITID='100690', OPEID='02503400', OPEID6='025034', INSTNM='Amridge University', CITY='Montgomery', STABBR='AL', INSTURL='www.amridgeuniversity.edu', NPCURL='www2.amridgeuniversity.edu:9091/', HCM2='0', PREDDEG='3', HIGHDEG='4', CONTROL='2', LOCALE='12', HBCU='0', PBI='0', ANNHI='0', TRIBAL='0', AANAPII='0', HSI='0', NANTI='0', MENONLY='0', WOMENONLY='0', RELAFFIL='74', SATVR25='NULL', SATVR75='NULL', SATMT25='NULL', SATMT75='NULL', SATWR25='NULL', SATWR75='NULL', SATVRMID='NULL', SATMTMID='NULL', SATWRMID='NULL', ACTCM25='NULL', ACTCM75='NULL', ACTEN25='NULL', ACTEN75='NULL', ACTMT25='NULL', ACTMT75='NULL', ACTWR25='NULL', ACTWR75='NULL', ACTCMMID='NULL', ACTENMID='NULL', ACTMTMID='NULL', ACTWRMID='NULL', SAT_AVG='NULL', SAT_AVG_ALL='NULL', PCIP01='0', PCIP03='0', PCIP04='0', PCIP05='0', PCIP09='0', PCIP10='0', PCIP11='0', PCIP12='0', PCIP13='0', PCIP14='0', PCIP15='0', PCIP16='0', PCIP19='0.2857', PCIP22='0', PCIP23='0', PCIP24='0.127', PCIP25='0', PCIP26='0', PCIP27='0', PCIP29='0', PCIP30='0', PCIP31='0', PCIP38='0', PCIP39='0.1587', PCIP40='0', PCIP41='0', PCIP42='0', PCIP43='0.0794', PCIP44='0', PCIP45='0', PCIP46='0', PCIP47='0', PCIP48='0', PCIP49='0', PCIP50='0', PCIP51='0', PCIP52='0.3492', PCIP54='0', DISTANCEONLY='1', UGDS='322', UGDS_WHITE='0.0714', UGDS_BLACK='0.1429', UGDS_HISP='0.0062', UGDS_ASIAN='0.0031', UGDS_AIAN='0', UGDS_NHPI='0', UGDS_2MOR='0', UGDS_NRA='0', UGDS_UNKN='0.7764', PPTUG_EF='0.5435', CURROPER='1', NPT4_PUB='NULL', NPT4_PRIV='9649', NPT41_PUB='NULL', NPT42_PUB='NULL', NPT43_PUB='NULL', NPT44_PUB='NULL', NPT45_PUB='NULL', NPT41_PRIV='9165', NPT42_PRIV='10134', NPT43_PRIV='NULL', NPT44_PRIV='NULL', NPT45_PRIV='NULL', PCTPELL='0.7415', RET_FT4_POOLED_SUPP='PrivacySuppressed', RET_FTL4_POOLED_SUPP='NULL', RET_PT4_POOLED_SUPP='0.1765', RET_PTL4_POOLED_SUPP='NULL', PCTFLOAN='0.8741', UG25ABV='0.823', MD_EARN_WNE_P10='39600', GRAD_DEBT_MDN_SUPP='22890', GRAD_DEBT_MDN10YR_SUPP='243.343773299842', RPY_3YR_RT_SUPP='0.2307692308', C150_L4_POOLED_SUPP='NULL', C150_4_POOLED_SUPP='0.2424', OMAWDP8_FTFT_POOLED_SUPP='0.3548', OMENRYP8_FTFT_POOLED_SUPP='0.0323', OMENRAP8_FTFT_POOLED_SUPP='0.3226', OMENRUP8_FTFT_POOLED_SUPP='0.2903', OMAWDP8_PTFT_POOLED_SUPP='PrivacySuppressed', OMENRYP8_PTFT_POOLED_SUPP='PrivacySuppressed', OMENRAP8_PTFT_POOLED_SUPP='PrivacySuppressed', OMENRUP8_PTFT_POOLED_SUPP='PrivacySuppressed', OMAWDP8_FTNFT_POOLED_SUPP='0.4527', OMENRYP8_FTNFT_POOLED_SUPP='0.0123', OMENRAP8_FTNFT_POOLED_SUPP='0.3292', OMENRUP8_FTNFT_POOLED_SUPP='0.2058', OMAWDP8_PTNFT_POOLED_SUPP='0.4948', OMENRYP8_PTNFT_POOLED_SUPP='0.0309', OMENRAP8_PTNFT_POOLED_SUPP='0.3196', OMENRUP8_PTNFT_POOLED_SUPP='0.1546', OPEFLAG='1', PRGMOFR='NULL', CIPCODE1='NULL', CIPCODE2='NULL', CIPCODE3='NULL', CIPCODE4='NULL', CIPCODE5='NULL', CIPCODE6='NULL', CIPTITLE1='NULL', CIPTITLE2='NULL', CIPTITLE3='NULL', CIPTITLE4='NULL', CIPTITLE5='NULL', CIPTITLE6='NULL', CIPTFBS1='NULL', CIPTFBS2='NULL', CIPTFBS3='NULL', CIPTFBS4='NULL', CIPTFBS5='NULL', CIPTFBS6='NULL', CIPTFBSANNUAL1='NULL', CIPTFBSANNUAL2='NULL', CIPTFBSANNUAL3='NULL', CIPTFBSANNUAL4='NULL', CIPTFBSANNUAL5='NULL', CIPTFBSANNUAL6='NULL', MTHCMP1='NULL', MTHCMP2='NULL', MTHCMP3='NULL', MTHCMP4='NULL', MTHCMP5='NULL', MTHCMP6='NULL', OMENRYP_ALL_POOLED_SUPP='0.0185', OMENRAP_ALL_POOLED_SUPP='0.3386', OMAWDP8_ALL_POOLED_SUPP='0.4418', OMENRUP_ALL_POOLED_SUPP='0.2011', OMENRYP_FIRSTTIME_POOLED_SUPP='0.0263', OMENRAP_FIRSTTIME_POOLED_SUPP='0.4474', OMAWDP8_FIRSTTIME_POOLED_SUPP='0.2368', OMENRUP_FIRSTTIME_POOLED_SUPP='0.2895', OMENRYP_NOTFIRSTTIME_POOLED_SUPP='0.0176', OMENRAP_NOTFIRSTTIME_POOLED_SUPP='0.3265', OMAWDP8_NOTFIRSTTIME_POOLED_SUPP='0.4647', OMENRUP_NOTFIRSTTIME_POOLED_SUPP='0.1912', OMENRYP_FULLTIME_POOLED_SUPP='0.0148', OMENRAP_FULLTIME_POOLED_SUPP='0.3284', OMAWDP8_FULLTIME_POOLED_SUPP='0.4391', OMENRUP_FULLTIME_POOLED_SUPP='0.2177', OMENRYP_PARTTIME_POOLED_SUPP='0.028', OMENRAP_PARTTIME_POOLED_SUPP='0.3645', OMAWDP8_PARTTIME_POOLED_SUPP='0.4486', OMENRUP_PARTTIME_POOLED_SUPP='0.1589'),\n",
       " Row(UNITID='100706', OPEID='00105500', OPEID6='001055', INSTNM='University of Alabama in Huntsville', CITY='Huntsville', STABBR='AL', INSTURL='www.uah.edu', NPCURL='finaid.uah.edu/', HCM2='0', PREDDEG='3', HIGHDEG='4', CONTROL='1', LOCALE='12', HBCU='0', PBI='0', ANNHI='0', TRIBAL='0', AANAPII='0', HSI='0', NANTI='0', MENONLY='0', WOMENONLY='0', RELAFFIL='NULL', SATVR25='550', SATVR75='660', SATMT25='530', SATMT75='670', SATWR25='NULL', SATWR75='NULL', SATVRMID='605', SATMTMID='600', SATWRMID='NULL', ACTCM25='25', ACTCM75='31', ACTEN25='25', ACTEN75='33', ACTMT25='24', ACTMT75='29', ACTWR25='NULL', ACTWR75='NULL', ACTCMMID='28', ACTENMID='29', ACTMTMID='27', ACTWRMID='NULL', SAT_AVG='1322', SAT_AVG_ALL='1322', PCIP01='0', PCIP03='0', PCIP04='0', PCIP05='0', PCIP09='0.0208', PCIP10='0', PCIP11='0.0755', PCIP12='0', PCIP13='0.034', PCIP14='0.2918', PCIP15='0', PCIP16='0.0123', PCIP19='0', PCIP22='0', PCIP23='0.0189', PCIP24='0', PCIP25='0', PCIP26='0.0585', PCIP27='0.0142', PCIP29='0', PCIP30='0.0009', PCIP31='0.0255', PCIP38='0.0076', PCIP39='0', PCIP40='0.0312', PCIP41='0', PCIP42='0.0151', PCIP43='0', PCIP44='0', PCIP45='0.0217', PCIP46='0', PCIP47='0', PCIP48='0', PCIP49='0', PCIP50='0.0246', PCIP51='0.102', PCIP52='0.2351', PCIP54='0.0104', DISTANCEONLY='0', UGDS='6917', UGDS_WHITE='0.7415', UGDS_BLACK='0.1073', UGDS_HISP='0.0463', UGDS_ASIAN='0.0402', UGDS_AIAN='0.011', UGDS_NHPI='0.001', UGDS_2MOR='0.0259', UGDS_NRA='0.024', UGDS_UNKN='0.0029', PPTUG_EF='0.1496', CURROPER='1', NPT4_PUB='19986', NPT4_PRIV='NULL', NPT41_PUB='16047', NPT42_PUB='17365', NPT43_PUB='20775', NPT44_PUB='21892', NPT45_PUB='22108', NPT41_PRIV='NULL', NPT42_PRIV='NULL', NPT43_PRIV='NULL', NPT44_PRIV='NULL', NPT45_PRIV='NULL', PCTPELL='0.2765', RET_FT4_POOLED_SUPP='0.8251', RET_FTL4_POOLED_SUPP='NULL', RET_PT4_POOLED_SUPP='0.5', RET_PTL4_POOLED_SUPP='NULL', PCTFLOAN='0.4278', UG25ABV='0.1842', MD_EARN_WNE_P10='46700', GRAD_DEBT_MDN_SUPP='22647', GRAD_DEBT_MDN10YR_SUPP='240.760438353933', RPY_3YR_RT_SUPP='0.5485090298', C150_L4_POOLED_SUPP='NULL', C150_4_POOLED_SUPP='0.4864', OMAWDP8_FTFT_POOLED_SUPP='0.5157', OMENRYP8_FTFT_POOLED_SUPP='0.022', OMENRAP8_FTFT_POOLED_SUPP='0.3461', OMENRUP8_FTFT_POOLED_SUPP='0.1162', OMAWDP8_PTFT_POOLED_SUPP='0.2239', OMENRYP8_PTFT_POOLED_SUPP='0.0299', OMENRAP8_PTFT_POOLED_SUPP='0.4776', OMENRUP8_PTFT_POOLED_SUPP='0.2687', OMAWDP8_FTNFT_POOLED_SUPP='0.5634', OMENRYP8_FTNFT_POOLED_SUPP='0.0092', OMENRAP8_FTNFT_POOLED_SUPP='0.2922', OMENRUP8_FTNFT_POOLED_SUPP='0.1352', OMAWDP8_PTNFT_POOLED_SUPP='0.3673', OMENRYP8_PTNFT_POOLED_SUPP='0.0237', OMENRAP8_PTNFT_POOLED_SUPP='0.3815', OMENRUP8_PTNFT_POOLED_SUPP='0.2275', OPEFLAG='1', PRGMOFR='NULL', CIPCODE1='NULL', CIPCODE2='NULL', CIPCODE3='NULL', CIPCODE4='NULL', CIPCODE5='NULL', CIPCODE6='NULL', CIPTITLE1='NULL', CIPTITLE2='NULL', CIPTITLE3='NULL', CIPTITLE4='NULL', CIPTITLE5='NULL', CIPTITLE6='NULL', CIPTFBS1='NULL', CIPTFBS2='NULL', CIPTFBS3='NULL', CIPTFBS4='NULL', CIPTFBS5='NULL', CIPTFBS6='NULL', CIPTFBSANNUAL1='NULL', CIPTFBSANNUAL2='NULL', CIPTFBSANNUAL3='NULL', CIPTFBSANNUAL4='NULL', CIPTFBSANNUAL5='NULL', CIPTFBSANNUAL6='NULL', MTHCMP1='NULL', MTHCMP2='NULL', MTHCMP3='NULL', MTHCMP4='NULL', MTHCMP5='NULL', MTHCMP6='NULL', OMENRYP_ALL_POOLED_SUPP='0.0177', OMENRAP_ALL_POOLED_SUPP='0.3337', OMAWDP8_ALL_POOLED_SUPP='0.5079', OMENRUP_ALL_POOLED_SUPP='0.1406', OMENRYP_FIRSTTIME_POOLED_SUPP='0.0223', OMENRAP_FIRSTTIME_POOLED_SUPP='0.3514', OMAWDP8_FIRSTTIME_POOLED_SUPP='0.5039', OMENRUP_FIRSTTIME_POOLED_SUPP='0.1224', OMENRYP_NOTFIRSTTIME_POOLED_SUPP='0.013', OMENRAP_NOTFIRSTTIME_POOLED_SUPP='0.3156', OMAWDP8_NOTFIRSTTIME_POOLED_SUPP='0.5121', OMENRUP_NOTFIRSTTIME_POOLED_SUPP='0.1593', OMENRYP_FULLTIME_POOLED_SUPP='0.0165', OMENRAP_FULLTIME_POOLED_SUPP='0.323', OMAWDP8_FULLTIME_POOLED_SUPP='0.5361', OMENRUP_FULLTIME_POOLED_SUPP='0.1243', OMENRYP_PARTTIME_POOLED_SUPP='0.0245', OMENRAP_PARTTIME_POOLED_SUPP='0.3947', OMAWDP8_PARTTIME_POOLED_SUPP='0.3476', OMENRUP_PARTTIME_POOLED_SUPP='0.2331'),\n",
       " Row(UNITID='100724', OPEID='00100500', OPEID6='001005', INSTNM='Alabama State University', CITY='Montgomery', STABBR='AL', INSTURL='www.alasu.edu', NPCURL='www.alasu.edu/cost-aid/forms/calculator/index.aspx', HCM2='0', PREDDEG='3', HIGHDEG='4', CONTROL='1', LOCALE='12', HBCU='1', PBI='0', ANNHI='0', TRIBAL='0', AANAPII='0', HSI='0', NANTI='0', MENONLY='0', WOMENONLY='0', RELAFFIL='NULL', SATVR25='380', SATVR75='485', SATMT25='375', SATMT75='481', SATWR25='NULL', SATWR75='NULL', SATVRMID='433', SATMTMID='428', SATWRMID='NULL', ACTCM25='16', ACTCM75='20', ACTEN25='15', ACTEN75='19', ACTMT25='14', ACTMT75='19', ACTWR25='NULL', ACTWR75='NULL', ACTCMMID='18', ACTENMID='17', ACTMTMID='17', ACTWRMID='NULL', SAT_AVG='935', SAT_AVG_ALL='935', PCIP01='0', PCIP03='0', PCIP04='0', PCIP05='0', PCIP09='0.0929', PCIP10='0', PCIP11='0.0565', PCIP12='0', PCIP13='0.1225', PCIP14='0', PCIP15='0', PCIP16='0', PCIP19='0', PCIP22='0', PCIP23='0.0121', PCIP24='0', PCIP25='0', PCIP26='0.0848', PCIP27='0.0175', PCIP29='0', PCIP30='0', PCIP31='0.0242', PCIP38='0', PCIP39='0', PCIP40='0.0269', PCIP41='0', PCIP42='0.0633', PCIP43='0.0821', PCIP44='0.0511', PCIP45='0.0108', PCIP46='0', PCIP47='0', PCIP48='0', PCIP49='0', PCIP50='0.0592', PCIP51='0.183', PCIP52='0.1104', PCIP54='0.0027', DISTANCEONLY='0', UGDS='4189', UGDS_WHITE='0.0146', UGDS_BLACK='0.9379', UGDS_HISP='0.0095', UGDS_ASIAN='0.0031', UGDS_AIAN='0.0014', UGDS_NHPI='0.0007', UGDS_2MOR='0.0107', UGDS_NRA='0.0107', UGDS_UNKN='0.0112', PPTUG_EF='0.0771', CURROPER='1', NPT4_PUB='12874', NPT4_PRIV='NULL', NPT41_PUB='12290', NPT42_PUB='12332', NPT43_PUB='16107', NPT44_PUB='16650', NPT45_PUB='15782', NPT41_PRIV='NULL', NPT42_PRIV='NULL', NPT43_PRIV='NULL', NPT44_PRIV='NULL', NPT45_PRIV='NULL', PCTPELL='0.7377', RET_FT4_POOLED_SUPP='0.6082', RET_FTL4_POOLED_SUPP='NULL', RET_PT4_POOLED_SUPP='0.3636', RET_PTL4_POOLED_SUPP='NULL', PCTFLOAN='0.769', UG25ABV='0.0848', MD_EARN_WNE_P10='27700', GRAD_DEBT_MDN_SUPP='31500', GRAD_DEBT_MDN10YR_SUPP='334.876752247489', RPY_3YR_RT_SUPP='0.2185867473', C150_L4_POOLED_SUPP='NULL', C150_4_POOLED_SUPP='0.2468', OMAWDP8_FTFT_POOLED_SUPP='0.2905', OMENRYP8_FTFT_POOLED_SUPP='0.0254', OMENRAP8_FTFT_POOLED_SUPP='0.548', OMENRUP8_FTFT_POOLED_SUPP='0.136', OMAWDP8_PTFT_POOLED_SUPP='0.0476', OMENRYP8_PTFT_POOLED_SUPP='0.0159', OMENRAP8_PTFT_POOLED_SUPP='0.4603', OMENRUP8_PTFT_POOLED_SUPP='0.4762', OMAWDP8_FTNFT_POOLED_SUPP='0.4528', OMENRYP8_FTNFT_POOLED_SUPP='0.0259', OMENRAP8_FTNFT_POOLED_SUPP='0.4387', OMENRUP8_FTNFT_POOLED_SUPP='0.0825', OMAWDP8_PTNFT_POOLED_SUPP='0.2625', OMENRYP8_PTNFT_POOLED_SUPP='0.025', OMENRAP8_PTNFT_POOLED_SUPP='0.675', OMENRUP8_PTNFT_POOLED_SUPP='0.0375', OPEFLAG='1', PRGMOFR='NULL', CIPCODE1='NULL', CIPCODE2='NULL', CIPCODE3='NULL', CIPCODE4='NULL', CIPCODE5='NULL', CIPCODE6='NULL', CIPTITLE1='NULL', CIPTITLE2='NULL', CIPTITLE3='NULL', CIPTITLE4='NULL', CIPTITLE5='NULL', CIPTITLE6='NULL', CIPTFBS1='NULL', CIPTFBS2='NULL', CIPTFBS3='NULL', CIPTFBS4='NULL', CIPTFBS5='NULL', CIPTFBS6='NULL', CIPTFBSANNUAL1='NULL', CIPTFBSANNUAL2='NULL', CIPTFBSANNUAL3='NULL', CIPTFBSANNUAL4='NULL', CIPTFBSANNUAL5='NULL', CIPTFBSANNUAL6='NULL', MTHCMP1='NULL', MTHCMP2='NULL', MTHCMP3='NULL', MTHCMP4='NULL', MTHCMP5='NULL', MTHCMP6='NULL', OMENRYP_ALL_POOLED_SUPP='0.0252', OMENRAP_ALL_POOLED_SUPP='0.5349', OMAWDP8_ALL_POOLED_SUPP='0.3067', OMENRUP_ALL_POOLED_SUPP='0.1332', OMENRYP_FIRSTTIME_POOLED_SUPP='0.0251', OMENRAP_FIRSTTIME_POOLED_SUPP='0.546', OMAWDP8_FIRSTTIME_POOLED_SUPP='0.2848', OMENRUP_FIRSTTIME_POOLED_SUPP='0.1441', OMENRYP_NOTFIRSTTIME_POOLED_SUPP='0.0258', OMENRAP_NOTFIRSTTIME_POOLED_SUPP='0.4762', OMAWDP8_NOTFIRSTTIME_POOLED_SUPP='0.4226', OMENRUP_NOTFIRSTTIME_POOLED_SUPP='0.0754', OMENRYP_FULLTIME_POOLED_SUPP='0.0254', OMENRAP_FULLTIME_POOLED_SUPP='0.5327', OMAWDP8_FULLTIME_POOLED_SUPP='0.3133', OMENRUP_FULLTIME_POOLED_SUPP='0.1286', OMENRYP_PARTTIME_POOLED_SUPP='0.021', OMENRAP_PARTTIME_POOLED_SUPP='0.5804', OMAWDP8_PARTTIME_POOLED_SUPP='0.1678', OMENRUP_PARTTIME_POOLED_SUPP='0.2308')]"
      ]
     },
     "execution_count": 37,
     "metadata": {},
     "output_type": "execute_result"
    }
   ],
   "source": [
    "input_rdd.take(5)"
   ]
  },
  {
   "cell_type": "code",
   "execution_count": 38,
   "metadata": {},
   "outputs": [],
   "source": [
    "city_count = input_rdd\n",
    "    .map(lambda row: (row['CITY'], 1))\n",
    "    .reduceByKey(lambda count1, count2: count1 + count2)\n",
    "    .sortBy(lambda row: -row[1])"
   ]
  },
  {
   "cell_type": "code",
   "execution_count": 39,
   "metadata": {},
   "outputs": [
    {
     "data": {
      "text/plain": [
       "[('New York', 83),\n",
       " ('Chicago', 73),\n",
       " ('Houston', 66),\n",
       " ('Los Angeles', 53),\n",
       " ('Brooklyn', 49),\n",
       " ('Miami', 47),\n",
       " ('San Antonio', 45),\n",
       " ('Philadelphia', 40),\n",
       " ('Atlanta', 38),\n",
       " ('Dallas', 37)]"
      ]
     },
     "execution_count": 39,
     "metadata": {},
     "output_type": "execute_result"
    }
   ],
   "source": [
    "city_count.take(10)"
   ]
  },
  {
   "cell_type": "markdown",
   "metadata": {},
   "source": [
    "### Spark SQL"
   ]
  },
  {
   "cell_type": "code",
   "execution_count": 43,
   "metadata": {},
   "outputs": [
    {
     "name": "stdout",
     "output_type": "stream",
     "text": [
      "root\n",
      " |-- UNITID: string (nullable = true)\n",
      " |-- OPEID: string (nullable = true)\n",
      " |-- OPEID6: string (nullable = true)\n",
      " |-- INSTNM: string (nullable = true)\n",
      " |-- CITY: string (nullable = true)\n",
      " |-- STABBR: string (nullable = true)\n",
      " |-- INSTURL: string (nullable = true)\n",
      " |-- NPCURL: string (nullable = true)\n",
      " |-- HCM2: string (nullable = true)\n",
      " |-- PREDDEG: string (nullable = true)\n",
      " |-- HIGHDEG: string (nullable = true)\n",
      " |-- CONTROL: string (nullable = true)\n",
      " |-- LOCALE: string (nullable = true)\n",
      " |-- HBCU: string (nullable = true)\n",
      " |-- PBI: string (nullable = true)\n",
      " |-- ANNHI: string (nullable = true)\n",
      " |-- TRIBAL: string (nullable = true)\n",
      " |-- AANAPII: string (nullable = true)\n",
      " |-- HSI: string (nullable = true)\n",
      " |-- NANTI: string (nullable = true)\n",
      " |-- MENONLY: string (nullable = true)\n",
      " |-- WOMENONLY: string (nullable = true)\n",
      " |-- RELAFFIL: string (nullable = true)\n",
      " |-- SATVR25: string (nullable = true)\n",
      " |-- SATVR75: string (nullable = true)\n",
      " |-- SATMT25: string (nullable = true)\n",
      " |-- SATMT75: string (nullable = true)\n",
      " |-- SATWR25: string (nullable = true)\n",
      " |-- SATWR75: string (nullable = true)\n",
      " |-- SATVRMID: string (nullable = true)\n",
      " |-- SATMTMID: string (nullable = true)\n",
      " |-- SATWRMID: string (nullable = true)\n",
      " |-- ACTCM25: string (nullable = true)\n",
      " |-- ACTCM75: string (nullable = true)\n",
      " |-- ACTEN25: string (nullable = true)\n",
      " |-- ACTEN75: string (nullable = true)\n",
      " |-- ACTMT25: string (nullable = true)\n",
      " |-- ACTMT75: string (nullable = true)\n",
      " |-- ACTWR25: string (nullable = true)\n",
      " |-- ACTWR75: string (nullable = true)\n",
      " |-- ACTCMMID: string (nullable = true)\n",
      " |-- ACTENMID: string (nullable = true)\n",
      " |-- ACTMTMID: string (nullable = true)\n",
      " |-- ACTWRMID: string (nullable = true)\n",
      " |-- SAT_AVG: string (nullable = true)\n",
      " |-- SAT_AVG_ALL: string (nullable = true)\n",
      " |-- PCIP01: string (nullable = true)\n",
      " |-- PCIP03: string (nullable = true)\n",
      " |-- PCIP04: string (nullable = true)\n",
      " |-- PCIP05: string (nullable = true)\n",
      " |-- PCIP09: string (nullable = true)\n",
      " |-- PCIP10: string (nullable = true)\n",
      " |-- PCIP11: string (nullable = true)\n",
      " |-- PCIP12: string (nullable = true)\n",
      " |-- PCIP13: string (nullable = true)\n",
      " |-- PCIP14: string (nullable = true)\n",
      " |-- PCIP15: string (nullable = true)\n",
      " |-- PCIP16: string (nullable = true)\n",
      " |-- PCIP19: string (nullable = true)\n",
      " |-- PCIP22: string (nullable = true)\n",
      " |-- PCIP23: string (nullable = true)\n",
      " |-- PCIP24: string (nullable = true)\n",
      " |-- PCIP25: string (nullable = true)\n",
      " |-- PCIP26: string (nullable = true)\n",
      " |-- PCIP27: string (nullable = true)\n",
      " |-- PCIP29: string (nullable = true)\n",
      " |-- PCIP30: string (nullable = true)\n",
      " |-- PCIP31: string (nullable = true)\n",
      " |-- PCIP38: string (nullable = true)\n",
      " |-- PCIP39: string (nullable = true)\n",
      " |-- PCIP40: string (nullable = true)\n",
      " |-- PCIP41: string (nullable = true)\n",
      " |-- PCIP42: string (nullable = true)\n",
      " |-- PCIP43: string (nullable = true)\n",
      " |-- PCIP44: string (nullable = true)\n",
      " |-- PCIP45: string (nullable = true)\n",
      " |-- PCIP46: string (nullable = true)\n",
      " |-- PCIP47: string (nullable = true)\n",
      " |-- PCIP48: string (nullable = true)\n",
      " |-- PCIP49: string (nullable = true)\n",
      " |-- PCIP50: string (nullable = true)\n",
      " |-- PCIP51: string (nullable = true)\n",
      " |-- PCIP52: string (nullable = true)\n",
      " |-- PCIP54: string (nullable = true)\n",
      " |-- DISTANCEONLY: string (nullable = true)\n",
      " |-- UGDS: string (nullable = true)\n",
      " |-- UGDS_WHITE: string (nullable = true)\n",
      " |-- UGDS_BLACK: string (nullable = true)\n",
      " |-- UGDS_HISP: string (nullable = true)\n",
      " |-- UGDS_ASIAN: string (nullable = true)\n",
      " |-- UGDS_AIAN: string (nullable = true)\n",
      " |-- UGDS_NHPI: string (nullable = true)\n",
      " |-- UGDS_2MOR: string (nullable = true)\n",
      " |-- UGDS_NRA: string (nullable = true)\n",
      " |-- UGDS_UNKN: string (nullable = true)\n",
      " |-- PPTUG_EF: string (nullable = true)\n",
      " |-- CURROPER: string (nullable = true)\n",
      " |-- NPT4_PUB: string (nullable = true)\n",
      " |-- NPT4_PRIV: string (nullable = true)\n",
      " |-- NPT41_PUB: string (nullable = true)\n",
      " |-- NPT42_PUB: string (nullable = true)\n",
      " |-- NPT43_PUB: string (nullable = true)\n",
      " |-- NPT44_PUB: string (nullable = true)\n",
      " |-- NPT45_PUB: string (nullable = true)\n",
      " |-- NPT41_PRIV: string (nullable = true)\n",
      " |-- NPT42_PRIV: string (nullable = true)\n",
      " |-- NPT43_PRIV: string (nullable = true)\n",
      " |-- NPT44_PRIV: string (nullable = true)\n",
      " |-- NPT45_PRIV: string (nullable = true)\n",
      " |-- PCTPELL: string (nullable = true)\n",
      " |-- RET_FT4_POOLED_SUPP: string (nullable = true)\n",
      " |-- RET_FTL4_POOLED_SUPP: string (nullable = true)\n",
      " |-- RET_PT4_POOLED_SUPP: string (nullable = true)\n",
      " |-- RET_PTL4_POOLED_SUPP: string (nullable = true)\n",
      " |-- PCTFLOAN: string (nullable = true)\n",
      " |-- UG25ABV: string (nullable = true)\n",
      " |-- MD_EARN_WNE_P10: string (nullable = true)\n",
      " |-- GRAD_DEBT_MDN_SUPP: string (nullable = true)\n",
      " |-- GRAD_DEBT_MDN10YR_SUPP: string (nullable = true)\n",
      " |-- RPY_3YR_RT_SUPP: string (nullable = true)\n",
      " |-- C150_L4_POOLED_SUPP: string (nullable = true)\n",
      " |-- C150_4_POOLED_SUPP: string (nullable = true)\n",
      " |-- OMAWDP8_FTFT_POOLED_SUPP: string (nullable = true)\n",
      " |-- OMENRYP8_FTFT_POOLED_SUPP: string (nullable = true)\n",
      " |-- OMENRAP8_FTFT_POOLED_SUPP: string (nullable = true)\n",
      " |-- OMENRUP8_FTFT_POOLED_SUPP: string (nullable = true)\n",
      " |-- OMAWDP8_PTFT_POOLED_SUPP: string (nullable = true)\n",
      " |-- OMENRYP8_PTFT_POOLED_SUPP: string (nullable = true)\n",
      " |-- OMENRAP8_PTFT_POOLED_SUPP: string (nullable = true)\n",
      " |-- OMENRUP8_PTFT_POOLED_SUPP: string (nullable = true)\n",
      " |-- OMAWDP8_FTNFT_POOLED_SUPP: string (nullable = true)\n",
      " |-- OMENRYP8_FTNFT_POOLED_SUPP: string (nullable = true)\n",
      " |-- OMENRAP8_FTNFT_POOLED_SUPP: string (nullable = true)\n",
      " |-- OMENRUP8_FTNFT_POOLED_SUPP: string (nullable = true)\n",
      " |-- OMAWDP8_PTNFT_POOLED_SUPP: string (nullable = true)\n",
      " |-- OMENRYP8_PTNFT_POOLED_SUPP: string (nullable = true)\n",
      " |-- OMENRAP8_PTNFT_POOLED_SUPP: string (nullable = true)\n",
      " |-- OMENRUP8_PTNFT_POOLED_SUPP: string (nullable = true)\n",
      " |-- OPEFLAG: string (nullable = true)\n",
      " |-- PRGMOFR: string (nullable = true)\n",
      " |-- CIPCODE1: string (nullable = true)\n",
      " |-- CIPCODE2: string (nullable = true)\n",
      " |-- CIPCODE3: string (nullable = true)\n",
      " |-- CIPCODE4: string (nullable = true)\n",
      " |-- CIPCODE5: string (nullable = true)\n",
      " |-- CIPCODE6: string (nullable = true)\n",
      " |-- CIPTITLE1: string (nullable = true)\n",
      " |-- CIPTITLE2: string (nullable = true)\n",
      " |-- CIPTITLE3: string (nullable = true)\n",
      " |-- CIPTITLE4: string (nullable = true)\n",
      " |-- CIPTITLE5: string (nullable = true)\n",
      " |-- CIPTITLE6: string (nullable = true)\n",
      " |-- CIPTFBS1: string (nullable = true)\n",
      " |-- CIPTFBS2: string (nullable = true)\n",
      " |-- CIPTFBS3: string (nullable = true)\n",
      " |-- CIPTFBS4: string (nullable = true)\n",
      " |-- CIPTFBS5: string (nullable = true)\n",
      " |-- CIPTFBS6: string (nullable = true)\n",
      " |-- CIPTFBSANNUAL1: string (nullable = true)\n",
      " |-- CIPTFBSANNUAL2: string (nullable = true)\n",
      " |-- CIPTFBSANNUAL3: string (nullable = true)\n",
      " |-- CIPTFBSANNUAL4: string (nullable = true)\n",
      " |-- CIPTFBSANNUAL5: string (nullable = true)\n",
      " |-- CIPTFBSANNUAL6: string (nullable = true)\n",
      " |-- MTHCMP1: string (nullable = true)\n",
      " |-- MTHCMP2: string (nullable = true)\n",
      " |-- MTHCMP3: string (nullable = true)\n",
      " |-- MTHCMP4: string (nullable = true)\n",
      " |-- MTHCMP5: string (nullable = true)\n",
      " |-- MTHCMP6: string (nullable = true)\n",
      " |-- OMENRYP_ALL_POOLED_SUPP: string (nullable = true)\n",
      " |-- OMENRAP_ALL_POOLED_SUPP: string (nullable = true)\n",
      " |-- OMAWDP8_ALL_POOLED_SUPP: string (nullable = true)\n",
      " |-- OMENRUP_ALL_POOLED_SUPP: string (nullable = true)\n",
      " |-- OMENRYP_FIRSTTIME_POOLED_SUPP: string (nullable = true)\n",
      " |-- OMENRAP_FIRSTTIME_POOLED_SUPP: string (nullable = true)\n",
      " |-- OMAWDP8_FIRSTTIME_POOLED_SUPP: string (nullable = true)\n",
      " |-- OMENRUP_FIRSTTIME_POOLED_SUPP: string (nullable = true)\n",
      " |-- OMENRYP_NOTFIRSTTIME_POOLED_SUPP: string (nullable = true)\n",
      " |-- OMENRAP_NOTFIRSTTIME_POOLED_SUPP: string (nullable = true)\n",
      " |-- OMAWDP8_NOTFIRSTTIME_POOLED_SUPP: string (nullable = true)\n",
      " |-- OMENRUP_NOTFIRSTTIME_POOLED_SUPP: string (nullable = true)\n",
      " |-- OMENRYP_FULLTIME_POOLED_SUPP: string (nullable = true)\n",
      " |-- OMENRAP_FULLTIME_POOLED_SUPP: string (nullable = true)\n",
      " |-- OMAWDP8_FULLTIME_POOLED_SUPP: string (nullable = true)\n",
      " |-- OMENRUP_FULLTIME_POOLED_SUPP: string (nullable = true)\n",
      " |-- OMENRYP_PARTTIME_POOLED_SUPP: string (nullable = true)\n",
      " |-- OMENRAP_PARTTIME_POOLED_SUPP: string (nullable = true)\n",
      " |-- OMAWDP8_PARTTIME_POOLED_SUPP: string (nullable = true)\n",
      " |-- OMENRUP_PARTTIME_POOLED_SUPP: string (nullable = true)\n",
      "\n"
     ]
    }
   ],
   "source": [
    "input_dataframe.printSchema()"
   ]
  },
  {
   "cell_type": "code",
   "execution_count": 47,
   "metadata": {},
   "outputs": [
    {
     "name": "stdout",
     "output_type": "stream",
     "text": [
      "+------------+-----+\n",
      "|        CITY|count|\n",
      "+------------+-----+\n",
      "|    New York|   83|\n",
      "|     Chicago|   73|\n",
      "|     Houston|   66|\n",
      "| Los Angeles|   53|\n",
      "|    Brooklyn|   49|\n",
      "|       Miami|   47|\n",
      "| San Antonio|   45|\n",
      "|Philadelphia|   40|\n",
      "|     Atlanta|   38|\n",
      "|      Dallas|   37|\n",
      "|    Columbus|   35|\n",
      "|   San Diego|   35|\n",
      "|    Portland|   34|\n",
      "|Indianapolis|   34|\n",
      "| Springfield|   33|\n",
      "|     Phoenix|   33|\n",
      "|Jacksonville|   33|\n",
      "|     Memphis|   32|\n",
      "|  Pittsburgh|   31|\n",
      "|      Boston|   31|\n",
      "+------------+-----+\n",
      "only showing top 20 rows\n",
      "\n"
     ]
    }
   ],
   "source": [
    "input_dataframe.groupBy('CITY').count().sort(desc('count')).show()"
   ]
  },
  {
   "cell_type": "code",
   "execution_count": 52,
   "metadata": {},
   "outputs": [
    {
     "name": "stdout",
     "output_type": "stream",
     "text": [
      "+------------+-----+\n",
      "|        CITY|count|\n",
      "+------------+-----+\n",
      "|    New York|   83|\n",
      "|     Chicago|   73|\n",
      "|     Houston|   66|\n",
      "| Los Angeles|   53|\n",
      "|    Brooklyn|   49|\n",
      "|       Miami|   47|\n",
      "| San Antonio|   45|\n",
      "|Philadelphia|   40|\n",
      "|     Atlanta|   38|\n",
      "|      Dallas|   37|\n",
      "|   San Diego|   35|\n",
      "|    Columbus|   35|\n",
      "|    Portland|   34|\n",
      "|Indianapolis|   34|\n",
      "| Springfield|   33|\n",
      "|     Phoenix|   33|\n",
      "|Jacksonville|   33|\n",
      "|     Memphis|   32|\n",
      "|  Pittsburgh|   31|\n",
      "|  Washington|   31|\n",
      "+------------+-----+\n",
      "only showing top 20 rows\n",
      "\n"
     ]
    }
   ],
   "source": [
    "input_dataframe.createOrReplaceTempView(\"students\")\n",
    "spark.sql('SELECT CITY, COUNT(CITY) as count FROM students GROUP BY CITY ORDER BY count DESC').show()"
   ]
  },
  {
   "cell_type": "code",
   "execution_count": null,
   "metadata": {},
   "outputs": [],
   "source": []
  }
 ],
 "metadata": {
  "kernelspec": {
   "display_name": "Python 3",
   "language": "python",
   "name": "python3"
  },
  "language_info": {
   "codemirror_mode": {
    "name": "ipython",
    "version": 3
   },
   "file_extension": ".py",
   "mimetype": "text/x-python",
   "name": "python",
   "nbconvert_exporter": "python",
   "pygments_lexer": "ipython3",
   "version": "3.7.0"
  }
 },
 "nbformat": 4,
 "nbformat_minor": 1
}
